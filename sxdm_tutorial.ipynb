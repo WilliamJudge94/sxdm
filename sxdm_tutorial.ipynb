{
 "cells": [
  {
   "cell_type": "markdown",
   "metadata": {
    "heading_collapsed": "true"
   },
   "source": [
    "# Import sxdm"
   ]
  },
  {
   "cell_type": "code",
   "execution_count": 1,
   "metadata": {},
   "outputs": [],
   "source": [
    "%matplotlib qt\n",
    "from sxdm import *"
   ]
  },
  {
   "cell_type": "markdown",
   "metadata": {
    "heading_collapsed": "true"
   },
   "source": [
    "# Import MDA"
   ]
  },
  {
   "cell_type": "code",
   "execution_count": 2,
   "metadata": {},
   "outputs": [],
   "source": [
    "github_clone = '/Users/will/Documents/sxdm/'\n",
    "save_dir = '/Users/will/Desktop/sxdm_test'\n",
    "save_file_name = 'file'\n",
    "file = f'{save_dir}/{save_file_name}.h5'"
   ]
  },
  {
   "cell_type": "code",
   "execution_count": 5,
   "metadata": {},
   "outputs": [
    {
     "name": "stderr",
     "output_type": "stream",
     "text": [
      "1it [00:00,  6.80it/s]\n"
     ]
    }
   ],
   "source": [
    "import_mda(mda_path=f'{github_clone}tests/test_data/data/',\n",
    "             hdf5_save_directory=save_dir,\n",
    "             hdf5_save_filename=save_file_name)"
   ]
  },
  {
   "cell_type": "markdown",
   "metadata": {
    "heading_collapsed": "true"
   },
   "source": [
    "# Import Images"
   ]
  },
  {
   "cell_type": "code",
   "execution_count": 6,
   "metadata": {},
   "outputs": [
    {
     "name": "stderr",
     "output_type": "stream",
     "text": [
      "100%|██████████| 2/2 [00:05<00:00,  2.70s/it]\n"
     ]
    }
   ],
   "source": [
    "import_images(\n",
    "    file=file,\n",
    "    images_loc=f'{github_clone}tests/test_data/images/',\n",
    "    scans=False,\n",
    "    fill_num=3,\n",
    "    import_type='uint32',\n",
    "    )"
   ]
  },
  {
   "cell_type": "markdown",
   "metadata": {
    "heading_collapsed": "true"
   },
   "source": [
    "# Save MetaData"
   ]
  },
  {
   "cell_type": "code",
   "execution_count": 9,
   "metadata": {},
   "outputs": [],
   "source": [
    "# Display a preset detector channel input that the User can copy\n",
    "#disp_det_chan(file)\n",
    "\n",
    "# Example Output\n",
    "\n",
    "fluor = {\n",
    "    'Fe1':33,\n",
    "    'Fe2':3,\n",
    "    'Fe3':4,\n",
    "    'Fe4':30,\n",
    "    }\n",
    "\n",
    "roi = {\n",
    "    'ROI_1':5,\n",
    "    'ROI_2':6,\n",
    "    'ROI_3':7,\n",
    "    }\n",
    "\n",
    "detector_scan = {\n",
    "    'Main_Scan':65,\n",
    "    }\n",
    "\n",
    "filenumber = 10\n",
    "sample_theta = 56\n",
    "hybrid_x = 67\n",
    "hybrid_y = 68\n",
    "\n",
    "mis = {\n",
    "    '2Theta':55,\n",
    "    'Storage_Ring_Current':70,\n",
    "    'Relative_r_To_Detector':54,\n",
    "    }\n",
    "\n",
    "xrf = {\n",
    "    'Fe1':2,\n",
    "    'Fe2':2,\n",
    "    'Fe3':2,\n",
    "    'Full':2\n",
    "    }\n",
    "\n",
    "setup_det_chan(file, fluor, roi,\n",
    "               detector_scan, filenumber,\n",
    "               sample_theta, hybrid_x, hybrid_y,\n",
    "               mis, xrf=xrf)"
   ]
  },
  {
   "cell_type": "markdown",
   "metadata": {
    "heading_collapsed": "true"
   },
   "source": [
    "# Creating Frameset"
   ]
  },
  {
   "cell_type": "code",
   "execution_count": 3,
   "metadata": {},
   "outputs": [
    {
     "name": "stdout",
     "output_type": "stream",
     "text": [
      "Using --selective-- median_blur\n",
      "\n",
      "Saved Scans: [294 294 294]\n",
      "Current User Input: [294 294 294]\n",
      "Importing Identical Scans. Reloading Saved Data...\n",
      "\n",
      "Diameter Of The Zone Plate Is Set To b'150' microns\n",
      "Outermost Zone Plate d Spacing Is Set To b'20' nanometers\n",
      "The Size Of Your Detector Pixels Is Set To b'15' microns\n",
      "The Detector Theta Value Is 16.7 Degrees and the Kev is 9 Kev\n",
      "\n",
      "Hybrid Scan Shapes Are Equivalent\n",
      "Pixel X Dimension: 30.96155019906851nm\n",
      "Pixel Y Dimension: 31.242601799242426nm\n",
      "All X and All Y Resolutions are within 0.5 nanometers from each other respectivley\n",
      "X And Y Resolutions Are Within 0.5 nm Of Each Other\n"
     ]
    }
   ],
   "source": [
    "# Use the same HDF file and group name as when importing\n",
    "test_fs = SXDMFrameset(file=file,\n",
    "            dataset_name='test_data',\n",
    "            scan_numbers=[294, 294, 294], # Doesnt work with a single value\n",
    "            fill_num=3,\n",
    "            restart_zoneplate=False,\n",
    "            median_blur_algorithm='selective',\n",
    "            )"
   ]
  },
  {
   "cell_type": "markdown",
   "metadata": {
    "heading_collapsed": "true"
   },
   "source": [
    "# Alignment"
   ]
  },
  {
   "cell_type": "code",
   "execution_count": 11,
   "metadata": {},
   "outputs": [
    {
     "name": "stdin",
     "output_type": "stream",
     "text": [
      "Would You Like To Align On fluor Or roi?  fluor\n",
      "Which - fluor - Would You Like To Center To/Return: ['Fe1' 'Fe2' 'Fe3' 'Fe4'] Fe3\n"
     ]
    }
   ],
   "source": [
    "test_fs.alignment(reset=False)"
   ]
  },
  {
   "cell_type": "markdown",
   "metadata": {
    "heading_collapsed": "true"
   },
   "source": [
    "# Centroid Analysis"
   ]
  },
  {
   "cell_type": "code",
   "execution_count": 12,
   "metadata": {},
   "outputs": [
    {
     "name": "stdin",
     "output_type": "stream",
     "text": [
      "Which Scan Do You Want To Center Around? - Input Index -  0\n"
     ]
    },
    {
     "name": "stderr",
     "output_type": "stream",
     "text": [
      "File # Shifting: 100%|██████████| 3/3 [00:00<00:00,  5.54scans/s]\n",
      "File # Shifting: 100%|██████████| 3/3 [00:00<00:00,  6.90scans/s]\n",
      "Progress: 100%|██████████| 918/918 [00:08<00:00, 106.88pixles/s] \n"
     ]
    },
    {
     "name": "stdout",
     "output_type": "stream",
     "text": [
      "Results Stored As self.results\n"
     ]
    }
   ],
   "source": [
    "test_fs.centroid_analysis(rows=test_fs.frame_shape()[1],\n",
    "                            columns=test_fs.frame_shape()[2],\n",
    "                            med_blur_distance=9,\n",
    "                            med_blur_height=10,\n",
    "                            stdev_min=25,\n",
    "                            bkg_multiplier=0)"
   ]
  },
  {
   "cell_type": "code",
   "execution_count": 13,
   "metadata": {},
   "outputs": [
    {
     "name": "stderr",
     "output_type": "stream",
     "text": [
      " /Users/will/Documents/sxdm/sxdm/SXDM.py:393: UserWarning:The Starting Parameters In The Viewer May Not Be\n",
      "Identical To The Parameters Used For The Analysis"
     ]
    },
    {
     "name": "stdin",
     "output_type": "stream",
     "text": [
      "A Centering Index of - 0 - Has Been Found. Would You Like To Use This Index To Center? y/n  y\n",
      "Which - fluor - Would You Like To Center To/Return: ['Fe1' 'Fe2' 'Fe3' 'Fe4'] Fe3\n"
     ]
    },
    {
     "name": "stderr",
     "output_type": "stream",
     "text": [
      "File # Shifting: 100%|██████████| 3/3 [00:00<00:00,  6.75scans/s]\n",
      "Loading 2D: 100%|██████████| 26/26 [00:03<00:00,  7.23it/s]\n"
     ]
    },
    {
     "ename": "SystemExit",
     "evalue": "0",
     "output_type": "error",
     "traceback": [
      "An exception has occurred, use %tb to see the full traceback.\n",
      "\u001b[0;31mSystemExit\u001b[0m\u001b[0;31m:\u001b[0m 0\n"
     ]
    },
    {
     "name": "stderr",
     "output_type": "stream",
     "text": [
      " /Users/will/anaconda3/envs/sxdm_pip/lib/python3.6/site-packages/IPython/core/interactiveshell.py:3351: UserWarning:To exit: use 'exit', 'quit', or Ctrl-D."
     ]
    }
   ],
   "source": [
    "test_fs.centroid_viewer()"
   ]
  },
  {
   "cell_type": "markdown",
   "metadata": {
    "heading_collapsed": "true"
   },
   "source": [
    "# ROI Segmentation"
   ]
  },
  {
   "cell_type": "code",
   "execution_count": 4,
   "metadata": {},
   "outputs": [
    {
     "name": "stdout",
     "output_type": "stream",
     "text": [
      "'SXDMFrameset' object has no attribute 'image_array' Initializing Image Array\n"
     ]
    },
    {
     "name": "stdin",
     "output_type": "stream",
     "text": [
      "A Centering Index of - 0 - Has Been Found. Would You Like To Use This Index To Center? y/n  y\n"
     ]
    },
    {
     "name": "stderr",
     "output_type": "stream",
     "text": [
      "File # Shifting: 100%|██████████| 3/3 [00:00<00:00,  7.19scans/s]\n",
      "File # Shifting: 100%|██████████| 3/3 [00:00<00:00,  8.60scans/s]\n",
      "Loading 2D: 100%|██████████| 33/33 [00:02<00:00, 12.28it/s]\n"
     ]
    }
   ],
   "source": [
    "test_fs.roi_segmentation(bkg_multiplier=0, restart=False)"
   ]
  },
  {
   "cell_type": "code",
   "execution_count": 5,
   "metadata": {},
   "outputs": [
    {
     "name": "stderr",
     "output_type": "stream",
     "text": [
      "File # Shifting: 100%|██████████| 3/3 [00:00<00:00,  7.47scans/s]\n",
      "Progress: 100%|██████████| 918/918 [00:14<00:00, 62.60pixles/s]  \n"
     ]
    },
    {
     "name": "stdout",
     "output_type": "stream",
     "text": [
      "Results Stored As self.roi_results\n"
     ]
    }
   ],
   "source": [
    "test_fs.region_of_interest(rows=test_fs.frame_shape()[1],\n",
    "                            columns=test_fs.frame_shape()[2],\n",
    "                            med_blur_distance=9,\n",
    "                            med_blur_height=100,\n",
    "                            bkg_multiplier=0,\n",
    "                            diff_segmentation=True,\n",
    "                            slow=False)"
   ]
  },
  {
   "cell_type": "code",
   "execution_count": 6,
   "metadata": {},
   "outputs": [],
   "source": [
    "test_fs.roi_viewer()"
   ]
  },
  {
   "cell_type": "code",
   "execution_count": 7,
   "metadata": {},
   "outputs": [],
   "source": [
    "def create_bounding_box_rois(fs):\n",
    "    \"\"\"Returns the ROI data for the rocking curve\n",
    "    \"\"\"\n",
    "    main_roi = create_rois(fs)\n",
    "    return main_roi[1]\n",
    "\n",
    "def create_total_linescan(fs):\n",
    "    \"\"\"Obtains the summed data for each ROI generated.\n",
    "    \"\"\"\n",
    "    main_roi = create_rois(fs)\n",
    "    linescan_store = []\n",
    "    for roi1 in main_roi[0]:\n",
    "        linescan_store.append(np.nansum(roi1))\n",
    "    return linescan_store"
   ]
  },
  {
   "cell_type": "code",
   "execution_count": 8,
   "metadata": {},
   "outputs": [
    {
     "data": {
      "text/plain": [
       "[<matplotlib.lines.Line2D at 0x7fe075ac3e48>]"
      ]
     },
     "execution_count": 8,
     "metadata": {},
     "output_type": "execute_result"
    }
   ],
   "source": [
    "plt.plot(create_total_linescan(test_fs))"
   ]
  }
 ],
 "metadata": {
  "kernelspec": {
   "display_name": "sxdm_pip",
   "language": "python",
   "name": "sxdm_pip"
  },
  "language_info": {
   "codemirror_mode": {
    "name": "ipython",
    "version": 3
   },
   "file_extension": ".py",
   "mimetype": "text/x-python",
   "name": "python",
   "nbconvert_exporter": "python",
   "pygments_lexer": "ipython3",
   "version": "3.6.13"
  }
 },
 "nbformat": 4,
 "nbformat_minor": 4
}
